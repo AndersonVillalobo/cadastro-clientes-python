{
  "cells": [
    {
      "cell_type": "markdown",
      "metadata": {
        "id": "view-in-github",
        "colab_type": "text"
      },
      "source": [
        "<a href=\"https://colab.research.google.com/github/AndersonVillalobo/cadastro-clientes-python/blob/main/templates/aistudio_gemini_prompt_freeform.ipynb\" target=\"_parent\"><img src=\"https://colab.research.google.com/assets/colab-badge.svg\" alt=\"Open In Colab\"/></a>"
      ]
    },
    {
      "cell_type": "markdown",
      "metadata": {
        "id": "Tce3stUlHN0L"
      },
      "source": [
        "##### Copyright 2023 Google LLC"
      ]
    },
    {
      "cell_type": "code",
      "execution_count": 1,
      "metadata": {
        "cellView": "form",
        "id": "tuOe1ymfHZPu"
      },
      "outputs": [],
      "source": [
        "# @title Licensed under the Apache License, Version 2.0 (the \"License\");\n",
        "# you may not use this file except in compliance with the License.\n",
        "# You may obtain a copy of the License at\n",
        "#\n",
        "# https://www.apache.org/licenses/LICENSE-2.0\n",
        "#\n",
        "# Unless required by applicable law or agreed to in writing, software\n",
        "# distributed under the License is distributed on an \"AS IS\" BASIS,\n",
        "# WITHOUT WARRANTIES OR CONDITIONS OF ANY KIND, either express or implied.\n",
        "# See the License for the specific language governing permissions and\n",
        "# limitations under the License."
      ]
    },
    {
      "cell_type": "markdown",
      "metadata": {
        "id": "FKwyTRdwB8aW"
      },
      "source": [
        "## Setup"
      ]
    },
    {
      "cell_type": "code",
      "execution_count": null,
      "metadata": {
        "id": "RXInneX6xx7c"
      },
      "outputs": [],
      "source": [
        "!pip install -U -q \"google-generativeai>=0.8.2\""
      ]
    },
    {
      "cell_type": "code",
      "execution_count": null,
      "metadata": {
        "id": "kWIuwKG2_oWE"
      },
      "outputs": [],
      "source": [
        "# import necessary modules.\n",
        "import base64\n",
        "import copy\n",
        "import json\n",
        "import pathlib\n",
        "import requests\n",
        "\n",
        "\n",
        "import PIL.Image\n",
        "import IPython.display\n",
        "from IPython.display import Markdown\n",
        "\n",
        "try:\n",
        "    # The SDK will automatically read it from the GOOGLE_API_KEY environment variable.\n",
        "    # In Colab get the key from Colab-secrets (\"🔑\" in the left panel).\n",
        "    import os\n",
        "    from google.colab import userdata\n",
        "\n",
        "    os.environ[\"GOOGLE_API_KEY\"] = userdata.get(\"GOOGLE_API_KEY\")\n",
        "except ImportError:\n",
        "    pass\n",
        "\n",
        "import google.generativeai as genai\n",
        "\n",
        "# Parse the arguments\n",
        "\n",
        "model = 'gemini-1.5-pro' # @param {isTemplate: true}\n",
        "contents_b64 = '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' # @param {isTemplate: true}\n",
        "generation_config_b64 = 'eyJ0ZW1wZXJhdHVyZSI6MSwidG9wX3AiOjAuOTUsInRvcF9rIjo0MCwibWF4X291dHB1dF90b2tlbnMiOjgxOTJ9' # @param {isTemplate: true}\n",
        "safety_settings_b64 = \"e30=\"  # @param {isTemplate: true}\n",
        "\n",
        "gais_contents = json.loads(base64.b64decode(contents_b64))\n",
        "\n",
        "generation_config = json.loads(base64.b64decode(generation_config_b64))\n",
        "safety_settings = json.loads(base64.b64decode(safety_settings_b64))\n",
        "\n",
        "stream = False\n",
        "\n",
        "# Convert and upload the files\n",
        "\n",
        "tempfiles = pathlib.Path(f\"tempfiles\")\n",
        "tempfiles.mkdir(parents=True, exist_ok=True)\n",
        "\n",
        "\n",
        "drive = None\n",
        "def upload_file_data(file_data, index):\n",
        "    \"\"\"Upload files to the Files API.\n",
        "\n",
        "    For each file, Google AI Studio either sent:\n",
        "    - a Google Drive ID,\n",
        "    - a URL,\n",
        "    - a file path, or\n",
        "    - The raw bytes (`inline_data`).\n",
        "\n",
        "    The API only understands `inline_data` or it's Files API.\n",
        "    This code, uploads files to the files API where the API can access them.\n",
        "    \"\"\"\n",
        "\n",
        "    mime_type = file_data[\"mime_type\"]\n",
        "    if drive_id := file_data.pop(\"drive_id\", None):\n",
        "        if drive is None:\n",
        "          from google.colab import drive\n",
        "          drive.mount(\"/gdrive\")\n",
        "\n",
        "        path = next(\n",
        "            pathlib.Path(f\"/gdrive/.shortcut-targets-by-id/{drive_id}\").glob(\"*\")\n",
        "        )\n",
        "        print(\"Uploading:\", str(path))\n",
        "        file_info = genai.upload_file(path=path, mime_type=mime_type)\n",
        "        file_data[\"file_uri\"] = file_info.uri\n",
        "        return\n",
        "\n",
        "    if url := file_data.pop(\"url\", None):\n",
        "        response = requests.get(url)\n",
        "        data = response.content\n",
        "        name = url.split(\"/\")[-1]\n",
        "        path = tempfiles / str(index)\n",
        "        path.write_bytes(data)\n",
        "        print(\"Uploading:\", url)\n",
        "        file_info = genai.upload_file(path, display_name=name, mime_type=mime_type)\n",
        "        file_data[\"file_uri\"] = file_info.uri\n",
        "        return\n",
        "\n",
        "    if name := file_data.get(\"filename\", None):\n",
        "        if not pathlib.Path(name).exists():\n",
        "            raise IOError(\n",
        "                f\"local file: `{name}` does not exist. You can upload files \"\n",
        "                'to Colab using the file manager (\"📁 Files\" in the left '\n",
        "                \"toolbar)\"\n",
        "            )\n",
        "        file_info = genai.upload_file(path, display_name=name, mime_type=mime_type)\n",
        "        file_data[\"file_uri\"] = file_info.uri\n",
        "        return\n",
        "\n",
        "    if \"inline_data\" in file_data:\n",
        "        return\n",
        "\n",
        "    raise ValueError(\"Either `drive_id`, `url` or `inline_data` must be provided.\")\n",
        "\n",
        "\n",
        "contents = copy.deepcopy(gais_contents)\n",
        "\n",
        "index = 0\n",
        "for content in contents:\n",
        "    for n, part in enumerate(content[\"parts\"]):\n",
        "        if file_data := part.get(\"file_data\", None):\n",
        "            upload_file_data(file_data, index)\n",
        "            index += 1\n",
        "\n",
        "import json\n",
        "print(json.dumps(contents, indent=4))"
      ]
    },
    {
      "cell_type": "markdown",
      "metadata": {
        "id": "E7zAD69vE92b"
      },
      "source": [
        "## Call `generate_content`"
      ]
    },
    {
      "cell_type": "code",
      "execution_count": null,
      "metadata": {
        "id": "LB2LxPmAB95V"
      },
      "outputs": [],
      "source": [
        "from IPython.display import display\n",
        "from IPython.display import Markdown\n",
        "\n",
        "# Call the model and print the response.\n",
        "gemini = genai.GenerativeModel(model_name=model)\n",
        "\n",
        "response = gemini.generate_content(\n",
        "    contents,\n",
        "    generation_config=generation_config,\n",
        "    safety_settings=safety_settings,\n",
        "    stream=stream,\n",
        ")\n",
        "\n",
        "display(Markdown(response.text))"
      ]
    },
    {
      "cell_type": "markdown",
      "metadata": {
        "id": "9c9d345e9868"
      },
      "source": [
        "<table class=\"tfo-notebook-buttons\" align=\"left\">\n",
        "  <td>\n",
        "    <a target=\"_blank\" href=\"https://ai.google.dev/gemini-api/docs\"><img src=\"https://ai.google.dev/static/site-assets/images/docs/notebook-site-button.png\" height=\"32\" width=\"32\" />Docs on ai.google.dev</a>\n",
        "  </td>\n",
        "  <td>\n",
        "    <a target=\"_blank\" href=\"https://github.com/google-gemini/cookbook/blob/main/quickstarts\"><img src=\"https://www.tensorflow.org/images/GitHub-Mark-32px.png\" />More notebooks in the Cookbook</a>\n",
        "  </td>\n",
        "</table>"
      ]
    },
    {
      "cell_type": "markdown",
      "metadata": {
        "id": "F91AeeGO1ncU"
      },
      "source": [
        "## [optional] Show the conversation\n",
        "\n",
        "This section displays the conversation received from Google AI Studio."
      ]
    },
    {
      "cell_type": "code",
      "execution_count": null,
      "metadata": {
        "id": "yoL3p3KPylFW"
      },
      "outputs": [],
      "source": [
        "# @title Show the conversation, in colab.\n",
        "import mimetypes\n",
        "\n",
        "def show_file(file_data):\n",
        "    mime_type = file_data[\"mime_type\"]\n",
        "\n",
        "    if drive_id := file_data.get(\"drive_id\", None):\n",
        "        path = next(\n",
        "            pathlib.Path(f\"/gdrive/.shortcut-targets-by-id/{drive_id}\").glob(\"*\")\n",
        "        )\n",
        "        name = path\n",
        "        # data = path.read_bytes()\n",
        "        kwargs = {\"filename\": path}\n",
        "    elif url := file_data.get(\"url\", None):\n",
        "        name = url\n",
        "        kwargs = {\"url\": url}\n",
        "        # response = requests.get(url)\n",
        "        # data = response.content\n",
        "    elif data := file_data.get(\"inline_data\", None):\n",
        "        name = None\n",
        "        kwargs = {\"data\": data}\n",
        "    elif name := file_data.get(\"filename\", None):\n",
        "        if not pathlib.Path(name).exists():\n",
        "            raise IOError(\n",
        "                f\"local file: `{name}` does not exist. You can upload files to \"\n",
        "                'Colab using the file manager (\"📁 Files\"in the left toolbar)'\n",
        "            )\n",
        "    else:\n",
        "        raise ValueError(\"Either `drive_id`, `url` or `inline_data` must be provided.\")\n",
        "\n",
        "        print(f\"File:\\n    name: {name}\\n    mime_type: {mime_type}\\n\")\n",
        "        return\n",
        "\n",
        "    format = mimetypes.guess_extension(mime_type).strip(\".\")\n",
        "    if mime_type.startswith(\"image/\"):\n",
        "        image = IPython.display.Image(**kwargs, width=256)\n",
        "        IPython.display.display(image)\n",
        "        print()\n",
        "        return\n",
        "\n",
        "    if mime_type.startswith(\"audio/\"):\n",
        "        if len(data) < 2**12:\n",
        "            audio = IPython.display.Audio(**kwargs)\n",
        "            IPython.display.display(audio)\n",
        "            print()\n",
        "            return\n",
        "\n",
        "    if mime_type.startswith(\"video/\"):\n",
        "        if len(data) < 2**12:\n",
        "            audio = IPython.display.Video(**kwargs, mimetype=mime_type)\n",
        "            IPython.display.display(audio)\n",
        "            print()\n",
        "            return\n",
        "\n",
        "    print(f\"File:\\n    name: {name}\\n    mime_type: {mime_type}\\n\")\n",
        "\n",
        "\n",
        "for content in gais_contents:\n",
        "    if role := content.get(\"role\", None):\n",
        "        print(\"Role:\", role, \"\\n\")\n",
        "\n",
        "    for n, part in enumerate(content[\"parts\"]):\n",
        "        if text := part.get(\"text\", None):\n",
        "            print(text, \"\\n\")\n",
        "\n",
        "        elif file_data := part.get(\"file_data\", None):\n",
        "            show_file(file_data)\n",
        "\n",
        "    print(\"-\" * 80, \"\\n\")"
      ]
    }
  ],
  "metadata": {
    "colab": {
      "collapsed_sections": [
        "Tce3stUlHN0L"
      ],
      "name": "aistudio_gemini_prompt_freeform.ipynb",
      "toc_visible": true,
      "provenance": [],
      "include_colab_link": true
    },
    "kernelspec": {
      "display_name": "Python 3",
      "name": "python3"
    }
  },
  "nbformat": 4,
  "nbformat_minor": 0
}